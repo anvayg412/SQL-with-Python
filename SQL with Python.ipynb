{
 "cells": [
  {
   "cell_type": "code",
   "execution_count": null,
   "metadata": {},
   "outputs": [],
   "source": [
    "from platform import python_version\n",
    "import sqlite3\n",
    "import mysql.connector as mysql\n",
    "l"
   ]
  },
  {
   "cell_type": "code",
   "execution_count": 6,
   "metadata": {},
   "outputs": [
    {
     "name": "stdout",
     "output_type": "stream",
     "text": [
      "sqlite version-3.36.0\n"
     ]
    }
   ],
   "source": [
    "def main():\n",
    "    db=sqlite3.connect(\"C:/Users/anvay/Downloads/Ex_Files_Using_SQL_With_Python/ExerciseFiles/db/scratch.db\")\n",
    "    cur=db.cursor()\n",
    "    cur.execute(\"select sqlite_version()\")\n",
    "    version=cur.fetchone()[0]\n",
    "    print(f\"sqlite version-{version}\")\n",
    "    cur.close\n",
    "    db.close\n",
    "if __name__==\"__main__\":\n",
    "    main()"
   ]
  },
  {
   "cell_type": "code",
   "execution_count": 5,
   "metadata": {},
   "outputs": [
    {
     "name": "stdout",
     "output_type": "stream",
     "text": [
      "mysql version-8.0.27\n"
     ]
    }
   ],
   "source": [
    "def main():\n",
    "    db=mysql.connect(host=\"localhost\",user='root',password=\"password\")\n",
    "    cur=db.cursor()\n",
    "    cur.execute(\"select VERSION()\")\n",
    "    version=cur.fetchone()[0]\n",
    "    print(f\"mysql version-{version}\")\n",
    "    cur.close\n",
    "    db.close\n",
    "if __name__==\"__main__\":\n",
    "    main()"
   ]
  },
  {
   "cell_type": "code",
   "execution_count": 4,
   "metadata": {},
   "outputs": [
    {
     "name": "stdout",
     "output_type": "stream",
     "text": [
      "(1, 2, 3)\n",
      "(2, 3, 4)\n",
      "(3, 4, 5)\n"
     ]
    }
   ],
   "source": [
    "def main():\n",
    "    db=sqlite3.connect(\"C:/Users/anvay/Downloads/Ex_Files_Using_SQL_With_Python/ExerciseFiles/db/album.db\",timeout=60)\n",
    "    cur=db.cursor()\n",
    "    cur.execute(\"drop table if exists temp\")\n",
    "    cur.execute(\"Create table temp (a int, b int, c int)\")\n",
    "    cur.execute(\"insert into temp values(1,2,3)\")\n",
    "    cur.execute(\"insert into temp values(2,3,4)\")\n",
    "    cur.execute(\"insert into temp values(3,4,5)\")\n",
    "    db.commit\n",
    "    for row in cur.execute(\"select * from temp\"):\n",
    "        print(row)\n",
    "    cur.execute(\"drop table temp\")\n",
    "    cur.close\n",
    "    db.close\n",
    "if __name__==\"__main__\":\n",
    "    main()"
   ]
  },
  {
   "cell_type": "code",
   "execution_count": null,
   "metadata": {},
   "outputs": [],
   "source": []
  }
 ],
 "metadata": {
  "kernelspec": {
   "display_name": "Python 3 (ipykernel)",
   "language": "python",
   "name": "python3"
  },
  "language_info": {
   "codemirror_mode": {
    "name": "ipython",
    "version": 3
   },
   "file_extension": ".py",
   "mimetype": "text/x-python",
   "name": "python",
   "nbconvert_exporter": "python",
   "pygments_lexer": "ipython3",
   "version": "3.9.7"
  }
 },
 "nbformat": 4,
 "nbformat_minor": 2
}
